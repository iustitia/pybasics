{
 "cells": [
  {
   "cell_type": "markdown",
   "metadata": {},
   "source": [
    "# Python Basics\n",
    "\n",
    "## z Geek Girls Carrots i Programerią\n",
    "\n",
    "19.05.2018\n"
   ]
  },
  {
   "cell_type": "markdown",
   "metadata": {},
   "source": [
    "Wstęp\n",
    "\n"
   ]
  },
  {
   "cell_type": "markdown",
   "metadata": {},
   "source": [
    "Jak posługiwać się IPythonem?\n",
    "\n",
    "- uruchom kod z danej komórki przyciskiem 'Run' (Shift+Enter)\n",
    "- uruchom kod bez przechodzenia do nowej komórki (Ctrl+Enter)\n",
    "- kolor zielony = edycja\n",
    "- kolor niebieski = tryb poleceń\n"
   ]
  },
  {
   "cell_type": "code",
   "execution_count": 1,
   "metadata": {},
   "outputs": [
    {
     "name": "stdout",
     "output_type": "stream",
     "text": [
      "To działa\n"
     ]
    }
   ],
   "source": [
    "print('To działa')"
   ]
  },
  {
   "cell_type": "markdown",
   "metadata": {},
   "source": [
    "### 1.1 Zaczynamy\n",
    "Przejrzyj pobieżnie kod poniżej. Pewnie jest pełen tajemniczych znaczków, chociaż niektóre słowa coś już Ci mówią. Dzisiejszego dnia odczarujemy trochę tej magii ;)\n",
    "\n",
    "Bez sprawdzania w Google'u zastanów się, co mogą znaczyć poszczególne słowa w kodzie. \n",
    "\n",
    "Zauważ, że różne słowa i znaki mają różne kolory. \n",
    "\n",
    "Jeśli znasz trochę angielskiego, będzie to dodatkową podpowiedzią.\n",
    "\n",
    "Zobacz, gdzie wyświetlają się podobne napisy w czasie wykonania programu."
   ]
  },
  {
   "cell_type": "code",
   "execution_count": null,
   "metadata": {},
   "outputs": [],
   "source": [
    "from datetime import datetime\n",
    "\n",
    "name = input(\"Podaj swoje imię:\\n\")\n",
    "print(\"Cześć, {}. Witaj na kursie programowania!\\n\".format(name))\n",
    "\n",
    "get_date = input(\"Podać datę? (Wpisz 'T', jeśli chcesz zobaczyć dzisiejszą datę.)\\n\")\n",
    "\n",
    "if get_date == 'T' or get_date == 't':\n",
    "    days_of_the_week = ['poniedziałek', 'wtorek', 'środa', 'czwartek', \n",
    "                        'piątek', 'sobota', 'niedziela']\n",
    "\n",
    "    now = datetime.now()\n",
    "\n",
    "    new_years = datetime(year=now.year, month=1, day=1)\n",
    "    day_of_the_year = (now - new_years).days\n",
    "    \n",
    "    todays_date = '{}.{}.{}'.format(now.day, now.month, now.year)\n",
    "    time_now = '{}:{} i {} sekund'.format(now.hour, now.minute, now.second)\n",
    "\n",
    "    print(\"Dziś jest {}, {}. Dziś jest {} dzień roku.\\nGodzina: {}\".format(\n",
    "        days_of_the_week[now.weekday()],\n",
    "        todays_date,\n",
    "        day_of_the_year,\n",
    "        time_now\n",
    "        ))"
   ]
  },
  {
   "cell_type": "markdown",
   "metadata": {},
   "source": [
    "### 1.2 Co tu się dzieje?\n",
    "Kod podobny do 1.1, ale bez pytań. Spróbuj uruchomić kilka razy i zobacz jak zmienia się wyświetlany czas."
   ]
  },
  {
   "cell_type": "code",
   "execution_count": null,
   "metadata": {},
   "outputs": [],
   "source": [
    "from datetime import datetime\n",
    "\n",
    "print(\"Cześć, witaj na kursie programowania!\\n\")\n",
    "\n",
    "days_of_the_week = ['poniedziałek', 'wtorek', 'środa', 'czwartek', \n",
    "                    'piątek', 'sobota', 'niedziela']\n",
    "\n",
    "now = datetime.now()\n",
    "\n",
    "new_years = datetime(year=now.year, month=1, day=1)\n",
    "day_of_the_year = (now - new_years).days\n",
    "\n",
    "todays_date = '{}.{}.{}'.format(now.day, now.month, now.year)\n",
    "time_now = '{}:{} i {} sekund'.format(now.hour, now.minute, now.second)\n",
    "\n",
    "print(\"Dziś jest {}, {}. Dziś jest {} dzień roku.\\nGodzina: {}\".format(\n",
    "    days_of_the_week[now.weekday()],\n",
    "    todays_date,\n",
    "    day_of_the_year,\n",
    "    time_now\n",
    "    ))"
   ]
  },
  {
   "cell_type": "markdown",
   "metadata": {},
   "source": [
    "Wnioski:\n",
    "    - Wcięcia mają znaczenie\n",
    "    - zmienne przechowują dla nas dane do ponownego użycia"
   ]
  },
  {
   "cell_type": "markdown",
   "metadata": {},
   "source": [
    "### 1.3  Pierwszy program\n",
    "Napisz program, który wypisze tekst \"Hello World!\".\n",
    "\n",
    "Podpowiedź:\n",
    "Do wypisywania tekstu na ekran używany funkcji print(), np.:\n",
    "\n",
    "print(\"Witaj na kursie programowania\")"
   ]
  },
  {
   "cell_type": "code",
   "execution_count": null,
   "metadata": {},
   "outputs": [],
   "source": [
    "# Miejsce na Twój kod\n",
    "pass"
   ]
  },
  {
   "cell_type": "markdown",
   "metadata": {},
   "source": [
    "### 1.4  Liczby\n",
    "\n",
    "Komputery są świetne w liczeniu. Pobawmy się w kalkulator!\n",
    "\n",
    "\n",
    "\n",
    "Działania:\n",
    "\n",
    "- '+'   dodawanie\n",
    "- '-'      odejmowanie\n",
    "- '*'     mnożenie\n",
    "- '/'      dzielenie\n",
    "\n",
    "- //     dzielenie całkowitoliczbowe\n",
    "- %    dzielenie modulo\n",
    "\n",
    "- **    potęgowanie\n",
    "\n"
   ]
  },
  {
   "cell_type": "code",
   "execution_count": null,
   "metadata": {},
   "outputs": [],
   "source": [
    "x = 2 + 5\n",
    "print(x)\n",
    "\n",
    "vat = 0.23 * (100 + 34 + 50 * 2)\n",
    "print(vat)"
   ]
  },
  {
   "cell_type": "markdown",
   "metadata": {},
   "source": [
    "### Ćwiczenia\n",
    "\n",
    "Wstaw prawdziwe lub wymyślone dane ;)\n",
    "\n",
    "1. Wypróbuj podstawowe działania arytmetyczne w konsoli\n",
    "\n",
    "2. Oblicz BMI (dzielimy masę w kg przez wzrost podniesiony do kwadratu)\n",
    "\n",
    "3. Oblicz ile sekund ma doba\n",
    "\n",
    "4. Przelicz waluty np. 25 EUR to ile PLN?"
   ]
  },
  {
   "cell_type": "code",
   "execution_count": null,
   "metadata": {},
   "outputs": [],
   "source": [
    "# BMI\n",
    "bmi = 0\n",
    "print(bmi)\n",
    "\n",
    "# doba w sekundach\n",
    "doba = 0\n",
    "print(doba)\n",
    "\n",
    "# euro to pln\n",
    "eur_to_pln = 0\n",
    "print(eur_to_pln)"
   ]
  },
  {
   "cell_type": "markdown",
   "metadata": {},
   "source": [
    "### 1.5 Napisy"
   ]
  },
  {
   "cell_type": "code",
   "execution_count": null,
   "metadata": {},
   "outputs": [],
   "source": [
    "s = 'Napis'\n",
    "s2 = \"Mówienie tak bardzo przeszkadza w myśleniu.\"\n",
    "\n",
    "cytat = \"Tatuś Muminka powiedział: 'Mówienie tak bardzo przeszkadza w myśleniu.'\"\n",
    "\n",
    "# Łączenie napisów\n",
    "\n",
    "greeting = \"Cześć, \" + \"witaj na kursie programowania!\"\n",
    "name = \"Justyna\"\n",
    "greeting2 = \"Cześć, \" + name + \", witaj na kursie programowania!\"\n",
    "\n",
    "# Łączenie napisów z liczbami\n",
    "\n",
    "age = 20\n",
    "txt = \"Ja mam \" + str(age) + \" lat, Ty masz \" + str(age) + \" lat\"\n",
    "\n",
    "# TODO: slice, pozycje w stringu"
   ]
  },
  {
   "cell_type": "code",
   "execution_count": null,
   "metadata": {},
   "outputs": [],
   "source": [
    "s2"
   ]
  },
  {
   "cell_type": "markdown",
   "metadata": {},
   "source": [
    "### 1.6 Konstrukcje warunkowe\n",
    "\n",
    "Jeśli chcemy, żeby kod wykonał się, jeśli zajdzie jakiś warunek, to możemy użyć konstrukcji warunkowych.\n",
    "\n",
    "\n"
   ]
  },
  {
   "cell_type": "code",
   "execution_count": null,
   "metadata": {},
   "outputs": [],
   "source": [
    "age = 13\n",
    "\n",
    "if age < 18:\n",
    "    print(\"Niestety nie masz jeszcze 18 lat :(\")\n",
    "else:\n",
    "    print(\"Masz 18 lat, zapraszam!\")\n"
   ]
  },
  {
   "cell_type": "markdown",
   "metadata": {},
   "source": [
    "### Ćwiczenia\n"
   ]
  },
  {
   "cell_type": "code",
   "execution_count": null,
   "metadata": {},
   "outputs": [],
   "source": [
    "# Dla podanej prędkości, sprawdź czy mieści się w limicie 80 km/h. \n",
    "# Jeśli tak, wypisz komunikat \"Mieścisz się w limicie\", jeśli nie wypisz \"Jedziesz za szybko\"\n",
    "\n",
    "speed = 20\n",
    "\n",
    "# Miejsce na Twój kod:\n"
   ]
  },
  {
   "cell_type": "code",
   "execution_count": null,
   "metadata": {},
   "outputs": [],
   "source": [
    "# Dla podanego imienia, zobacz czy kończy się na literę 'a'.\n",
    "# Jeśli tak - wypisz \"To prawdopodobnie imię żeńskie\", jeśli nie - \"To prawdopodobnie imię męskie\"\n",
    "\n",
    "name = 'Anna'\n",
    "\n",
    "# Miejsce na Twój kod:\n",
    "\n",
    "\n"
   ]
  },
  {
   "cell_type": "code",
   "execution_count": null,
   "metadata": {},
   "outputs": [],
   "source": []
  },
  {
   "cell_type": "markdown",
   "metadata": {},
   "source": [
    "### 1.7 Listy\n"
   ]
  },
  {
   "cell_type": "code",
   "execution_count": null,
   "metadata": {},
   "outputs": [],
   "source": []
  },
  {
   "cell_type": "markdown",
   "metadata": {},
   "source": [
    "### 1.8 Słowniki"
   ]
  },
  {
   "cell_type": "code",
   "execution_count": null,
   "metadata": {},
   "outputs": [],
   "source": []
  },
  {
   "cell_type": "markdown",
   "metadata": {},
   "source": [
    "### 1.9 Pętla for"
   ]
  },
  {
   "cell_type": "code",
   "execution_count": null,
   "metadata": {},
   "outputs": [],
   "source": []
  },
  {
   "cell_type": "markdown",
   "metadata": {},
   "source": [
    "## Dodatkowe zadania"
   ]
  },
  {
   "cell_type": "markdown",
   "metadata": {},
   "source": [
    "1. Napisz symulację rzutu kostką. Wypisz wynik. Dodatkowo możesz wypisać reprezentację graficzną liczby oczek.\n",
    "2. Napisz prostą grę w zgadywanie liczby. Zakończ, gdy liczba zostanie odgadnięta. Jeśli liczba nietrafiona, poinformuj czy próba była za duża czy za mała.\n",
    "3. Napisz program do wyliczania pola koła, kwadratu, trójkąta.\n",
    "4. Napisz program, który sprawdza czy dane słowo jest palindromem, czyli czy słowo czytane od lewej do prawej i od prawej do lewej jest takie samo. Przykłady palindromów: 'anna', 'kajak', 'oko'.\n"
   ]
  },
  {
   "cell_type": "markdown",
   "metadata": {},
   "source": [
    "### Materiały do nauki\n",
    "\n",
    "Na początek:\n",
    "- https://www.hackerrank.com/domains/python/py-introduction\n",
    "- https://docs.python.org/3.6/tutorial/index.html\n",
    "- https://www.codecademy.com/learn/learn-python\n",
    "\n",
    "Przejrzyj też:\n",
    "- https://programeria.pl/2017/03/12/materialy-do-nauki-pythona/"
   ]
  },
  {
   "cell_type": "code",
   "execution_count": null,
   "metadata": {},
   "outputs": [],
   "source": []
  }
 ],
 "metadata": {
  "kernelspec": {
   "display_name": "Python 3",
   "language": "python",
   "name": "python3"
  },
  "language_info": {
   "codemirror_mode": {
    "name": "ipython",
    "version": 3
   },
   "file_extension": ".py",
   "mimetype": "text/x-python",
   "name": "python",
   "nbconvert_exporter": "python",
   "pygments_lexer": "ipython3",
   "version": "3.6.4"
  }
 },
 "nbformat": 4,
 "nbformat_minor": 2
}
